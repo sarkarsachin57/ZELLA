{
 "cells": [
  {
   "cell_type": "code",
   "execution_count": null,
   "id": "bcf42b84-070f-4929-9b19-888d8794278b",
   "metadata": {},
   "outputs": [],
   "source": []
  },
  {
   "cell_type": "code",
   "execution_count": 1,
   "id": "4dc2825e-49f2-4a86-aab6-3746f70f9fd9",
   "metadata": {},
   "outputs": [
    {
     "name": "stdout",
     "output_type": "stream",
     "text": [
      "\n",
      "\n",
      "Logging Resourse Usage - before any initializations\n",
      "GPU 0: 0 MiB / 6144 MiB\n",
      "gpu_memory : {0: 0}\n",
      "initials.py - before any initializations\n",
      "\n",
      "\n"
     ]
    },
    {
     "name": "stderr",
     "output_type": "stream",
     "text": [
      "2024-09-24 11:43:48,012 - p36460 {initials.py:231} - INFO - Check 1\n",
      "2024-09-24 11:43:48,015 - p36460 {initials.py:242} - INFO - Check 2\n",
      "2024-09-24 11:43:48,016 - p36460 {initials.py:248} - INFO - Check 3\n",
      "2024-09-24 11:43:48,085 - p36460 {initials.py:262} - INFO - Choosen Device : cuda:0\n",
      "2024-09-24 11:43:48,086 - p36460 {initials.py:269} - INFO - Check 4\n",
      "2024-09-24 11:43:48,087 - p36460 {initials.py:446} - INFO - Check 6\n",
      "2024-09-24 11:43:48,087 - p36460 {initials.py:550} - INFO - Check 8\n",
      "2024-09-24 11:43:48,088 - p36460 {initials.py:601} - INFO - Check 9\n",
      "2024-09-24 11:43:48,088 - p36460 {initials.py:653} - INFO - Check 10\n"
     ]
    },
    {
     "name": "stdout",
     "output_type": "stream",
     "text": [
      "\n",
      "\n",
      "Logging Resourse Usage - after all library initializations\n",
      "GPU 0: 0 MiB / 6144 MiB\n",
      "gpu_memory : {0: 0}\n",
      "initials.py - after all library initializations\n",
      "\n",
      "\n",
      "current process name : MainProcess\n",
      "CPU Count : 16\n",
      "GPU 0: 0 MiB / 6144 MiB\n",
      "Choosen Device : cuda:0\n",
      "\n",
      "\n",
      "Logging Resourse Usage - end of initials.py\n",
      "GPU 0: 0 MiB / 6144 MiB\n",
      "gpu_memory : {0: 0}\n",
      "initials.py - end of initials.py\n",
      "\n",
      "\n"
     ]
    }
   ],
   "source": [
    "from initials import *"
   ]
  },
  {
   "cell_type": "code",
   "execution_count": 8,
   "id": "772be6cd-1fd0-4699-a5ee-d805c979fdb5",
   "metadata": {},
   "outputs": [
    {
     "data": {
      "text/plain": [
       "<pymongo.results.DeleteResult at 0x17021ffca00>"
      ]
     },
     "execution_count": 8,
     "metadata": {},
     "output_type": "execute_result"
    }
   ],
   "source": [
    "mongodb[\"projects\"].delete_many({})"
   ]
  },
  {
   "cell_type": "code",
   "execution_count": 7,
   "id": "ec0e0b85-d98f-4647-b5fc-6b42a8df58dc",
   "metadata": {},
   "outputs": [
    {
     "name": "stdout",
     "output_type": "stream",
     "text": [
      "Status Code: 200\n",
      "Response JSON: {'status': 'success', 'data': {'_id': '99782a7a-bc27-487f-b472-275724bbfa80_0e378156', 'project_id': '0e378156', 'user_id': '99782a7a-bc27-487f-b472-275724bbfa80', 'project_name': 'Test Project', 'project_type': 'Image Classification', 'project_dir': 'workdir\\\\99782a7a-bc27-487f-b472-275724bbfa80\\\\Test Project', 'project_creation_time': '2024-09-24 13:03:17.842543', 'project_creation_time_str': '2024-09-24 01:03:17 PM'}}\n"
     ]
    }
   ],
   "source": [
    "import requests\n",
    "\n",
    "# Set the URL of the API\n",
    "url = 'http://localhost:5000/create-project'  # Replace with the actual URL of your API\n",
    "\n",
    "# Define the form data to be sent\n",
    "data = {\n",
    "    'email': 'sachin@gmail.com',\n",
    "    'project_name': 'Test Project',\n",
    "    'project_type': 'Image Classification'  # You can change this according to your test case\n",
    "}\n",
    "\n",
    "# Send a POST request to the /create-project endpoint\n",
    "response = requests.post(url, data=data)\n",
    "\n",
    "# Print the response from the server\n",
    "print(f'Status Code: {response.status_code}')\n",
    "print('Response JSON:', response.json())"
   ]
  },
  {
   "cell_type": "code",
   "execution_count": null,
   "id": "5a21e699-ac8f-4568-9278-61fabe540a2d",
   "metadata": {},
   "outputs": [],
   "source": []
  },
  {
   "cell_type": "code",
   "execution_count": null,
   "id": "16b8bb65-017c-4cb0-840e-49c897c39cec",
   "metadata": {},
   "outputs": [],
   "source": []
  }
 ],
 "metadata": {
  "kernelspec": {
   "display_name": "Python 3 (ipykernel)",
   "language": "python",
   "name": "python3"
  },
  "language_info": {
   "codemirror_mode": {
    "name": "ipython",
    "version": 3
   },
   "file_extension": ".py",
   "mimetype": "text/x-python",
   "name": "python",
   "nbconvert_exporter": "python",
   "pygments_lexer": "ipython3",
   "version": "3.9.13"
  }
 },
 "nbformat": 4,
 "nbformat_minor": 5
}
