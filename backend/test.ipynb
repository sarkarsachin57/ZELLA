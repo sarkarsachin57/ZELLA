{
 "cells": [
  {
   "cell_type": "code",
   "execution_count": null,
   "id": "bcf42b84-070f-4929-9b19-888d8794278b",
   "metadata": {},
   "outputs": [],
   "source": []
  },
  {
   "cell_type": "code",
   "execution_count": 1,
   "id": "4dc2825e-49f2-4a86-aab6-3746f70f9fd9",
   "metadata": {},
   "outputs": [
    {
     "name": "stdout",
     "output_type": "stream",
     "text": [
      "\n",
      "\n",
      "Logging Resourse Usage - before any initializations\n",
      "GPU 0: 0 MiB / 6144 MiB\n",
      "gpu_memory : {0: 0}\n",
      "initials.py - before any initializations\n",
      "\n",
      "\n"
     ]
    },
    {
     "name": "stderr",
     "output_type": "stream",
     "text": [
      "2024-09-24 11:43:48,012 - p36460 {initials.py:231} - INFO - Check 1\n",
      "2024-09-24 11:43:48,015 - p36460 {initials.py:242} - INFO - Check 2\n",
      "2024-09-24 11:43:48,016 - p36460 {initials.py:248} - INFO - Check 3\n",
      "2024-09-24 11:43:48,085 - p36460 {initials.py:262} - INFO - Choosen Device : cuda:0\n",
      "2024-09-24 11:43:48,086 - p36460 {initials.py:269} - INFO - Check 4\n",
      "2024-09-24 11:43:48,087 - p36460 {initials.py:446} - INFO - Check 6\n",
      "2024-09-24 11:43:48,087 - p36460 {initials.py:550} - INFO - Check 8\n",
      "2024-09-24 11:43:48,088 - p36460 {initials.py:601} - INFO - Check 9\n",
      "2024-09-24 11:43:48,088 - p36460 {initials.py:653} - INFO - Check 10\n"
     ]
    },
    {
     "name": "stdout",
     "output_type": "stream",
     "text": [
      "\n",
      "\n",
      "Logging Resourse Usage - after all library initializations\n",
      "GPU 0: 0 MiB / 6144 MiB\n",
      "gpu_memory : {0: 0}\n",
      "initials.py - after all library initializations\n",
      "\n",
      "\n",
      "current process name : MainProcess\n",
      "CPU Count : 16\n",
      "GPU 0: 0 MiB / 6144 MiB\n",
      "Choosen Device : cuda:0\n",
      "\n",
      "\n",
      "Logging Resourse Usage - end of initials.py\n",
      "GPU 0: 0 MiB / 6144 MiB\n",
      "gpu_memory : {0: 0}\n",
      "initials.py - end of initials.py\n",
      "\n",
      "\n"
     ]
    }
   ],
   "source": [
    "from initials import *"
   ]
  },
  {
   "cell_type": "code",
   "execution_count": 8,
   "id": "772be6cd-1fd0-4699-a5ee-d805c979fdb5",
   "metadata": {},
   "outputs": [
    {
     "data": {
      "text/plain": [
       "<pymongo.results.DeleteResult at 0x17021ffca00>"
      ]
     },
     "execution_count": 8,
     "metadata": {},
     "output_type": "execute_result"
    }
   ],
   "source": [
    "mongodb[\"projects\"].delete_many({})"
   ]
  },
  {
   "cell_type": "code",
   "execution_count": 11,
   "id": "ec0e0b85-d98f-4647-b5fc-6b42a8df58dc",
   "metadata": {},
   "outputs": [
    {
     "name": "stdout",
     "output_type": "stream",
     "text": [
      "Status Code: 200\n",
      "Response JSON: {'status': 'fail', 'message': 'Project name already exists!'}\n"
     ]
    }
   ],
   "source": [
    "import requests\n",
    "\n",
    "# Set the URL of the API\n",
    "url = 'http://localhost:5000/create-project'  # Replace with the actual URL of your API\n",
    "\n",
    "# Define the form data to be sent\n",
    "data = {\n",
    "    'email': 'sachin@gmail.com',\n",
    "    'project_name': 'Test Project',\n",
    "    'project_type': 'Image Classification'  # You can change this according to your test case\n",
    "}\n",
    "\n",
    "# Send a POST request to the /create-project endpoint\n",
    "response = requests.post(url, data=data)\n",
    "\n",
    "# Print the response from the server\n",
    "print(f'Status Code: {response.status_code}')\n",
    "print('Response JSON:', response.json())"
   ]
  },
  {
   "cell_type": "code",
   "execution_count": 12,
   "id": "5a21e699-ac8f-4568-9278-61fabe540a2d",
   "metadata": {},
   "outputs": [
    {
     "name": "stdout",
     "output_type": "stream",
     "text": [
      "Status Code: 200\n",
      "Response JSON: {'status': 'success', 'project_list': [{'_id': '99782a7a-bc27-487f-b472-275724bbfa80_cddc7182', 'project_id': 'cddc7182', 'user_id': '99782a7a-bc27-487f-b472-275724bbfa80', 'project_name': 'Test Project', 'project_type': 'Image Classification', 'project_dir': 'workdir\\\\99782a7a-bc27-487f-b472-275724bbfa80\\\\Test Project', 'project_creation_time': '2024-09-24 13:08:12.240000', 'project_creation_time_str': '2024-09-24 01:08:12 PM'}]}\n"
     ]
    }
   ],
   "source": [
    "import requests\n",
    "\n",
    "# Set the URL of the API\n",
    "url = 'http://localhost:5000/get-project-list'  # Replace with the actual URL of your API\n",
    "\n",
    "# Define the form data to be sent\n",
    "data = {\n",
    "    'email': 'sachin@gmail.com'\n",
    "}\n",
    "\n",
    "# Send a POST request to the /create-project endpoint\n",
    "response = requests.post(url, data=data)\n",
    "\n",
    "# Print the response from the server\n",
    "print(f'Status Code: {response.status_code}')\n",
    "print('Response JSON:', response.json())"
   ]
  },
  {
   "cell_type": "code",
   "execution_count": null,
   "id": "0aa18bc6-058d-4600-9299-256fd7ac8a53",
   "metadata": {},
   "outputs": [],
   "source": [
    "\n",
    "        email = request.form['email']         \n",
    "        project_name = request.form['project_name']\n",
    "        data_name =  request.form['data_name']\n",
    "        data_type = request.form['data_type']\n",
    "        data_drive_id = request.form['data_drive_id']\n",
    "        data_zip_file = request.files['data_zip_file']\n",
    "        "
   ]
  },
  {
   "cell_type": "code",
   "execution_count": 52,
   "id": "16b8bb65-017c-4cb0-840e-49c897c39cec",
   "metadata": {},
   "outputs": [
    {
     "name": "stdout",
     "output_type": "stream",
     "text": [
      "Status Code: 200\n",
      "Response JSON: {\"status\":\"success\",\"data\":{\"_id\":\"99782a7a-bc27-487f-b472-275724bbfa80_Test Project_b2a2d49e\",\"data_id\":\"b2a2d49e\",\"project_name\":\"Test Project\",\"user_id\":\"99782a7a-bc27-487f-b472-275724bbfa80\",\"data_name\":\"Test Data 1\",\"data_type\":\"Labeled\",\"project_type\":\"Image Classification\",\"data_zip_path\":\"workdir\\\\99782a7a-bc27-487f-b472-275724bbfa80\\\\Test Project\\\\data_b2a2d49e.zip\",\"data_extracted_path\":\"workdir\\\\99782a7a-bc27-487f-b472-275724bbfa80\\\\Test Project\\\\data_b2a2d49e_extracted\",\"data_creation_time\":\"2024-09-24 22:13:35.359280\",\"data_creation_time_str\":\"2024-09-24 10:13:35 PM\"}}\n"
     ]
    }
   ],
   "source": [
    "import requests\n",
    "# Set the URL of the API\n",
    "url = 'http://localhost:5000/upload-data'  # Replace with the actual URL of your API\n",
    "# Define the form data to be sent\n",
    "data = {\n",
    "    'email': 'sachin@gmail.com',\n",
    "    'project_name' : 'Test Project',\n",
    "    'data_name' : 'Test Data 1',\n",
    "    'data_type' : \"Labeled\",\n",
    "    'data_drive_id' : \"1TvlMyCitAOOrAwpllcnM1gdi0bAJgXKr\", \n",
    "    'data_zip_file' : \"\"\n",
    "}\n",
    "\n",
    "# Send a POST request to the /create-project endpoint\n",
    "response = requests.post(url, data=data)\n",
    "\n",
    "# Print the response from the server\n",
    "print(f'Status Code: {response.status_code}')\n",
    "print('Response JSON:', response.content.decode())"
   ]
  },
  {
   "cell_type": "code",
   "execution_count": 51,
   "id": "72c1dca3-a490-4c31-94d3-639a6fcfbc9c",
   "metadata": {},
   "outputs": [
    {
     "data": {
      "text/plain": [
       "<pymongo.results.DeleteResult at 0x170573496a0>"
      ]
     },
     "execution_count": 51,
     "metadata": {},
     "output_type": "execute_result"
    }
   ],
   "source": [
    "mongodb[\"datasets\"].delete_many({})"
   ]
  },
  {
   "cell_type": "code",
   "execution_count": 48,
   "id": "1cb4ab94-44e7-46fe-8ee6-b5fa9d2f7b01",
   "metadata": {},
   "outputs": [
    {
     "name": "stdout",
     "output_type": "stream",
     "text": [
      "Status Code: 200\n",
      "Response JSON: {\"status\":\"success\",\"dataset_list\":[{\"_id\":\"99782a7a-bc27-487f-b472-275724bbfa80_Test Project_9cbf3d39\",\"data_id\":\"9cbf3d39\",\"project_name\":\"Test Project\",\"user_id\":\"99782a7a-bc27-487f-b472-275724bbfa80\",\"data_name\":\"Test Data\",\"data_type\":\"Labeled\",\"project_type\":\"Image Classification\",\"data_zip_path\":\"workdir\\\\99782a7a-bc27-487f-b472-275724bbfa80\\\\Test Project\\\\data_9cbf3d39.zip\",\"data_extracted_path\":\"workdir\\\\99782a7a-bc27-487f-b472-275724bbfa80\\\\Test Project\\\\data_9cbf3d39_extracted\",\"data_creation_time\":\"2024-09-24 21:35:56.613000\",\"data_creation_time_str\":\"2024-09-24 09:35:56 PM\"}]}\n"
     ]
    }
   ],
   "source": [
    "import requests\n",
    "# Set the URL of the API\n",
    "url = 'http://localhost:5000/get-dataset-list'  # Replace with the actual URL of your API\n",
    "\n",
    "# Define the form data to be sent\n",
    "data = {\n",
    "    'email': 'sachin@gmail.com',\n",
    "    'project_name' : 'Test Project'\n",
    "}\n",
    "\n",
    "# Send a POST request to the /create-project endpoint\n",
    "response = requests.post(url, data=data)\n",
    "\n",
    "# Print the response from the server\n",
    "print(f'Status Code: {response.status_code}')\n",
    "print('Response JSON:', response.content.decode())"
   ]
  },
  {
   "cell_type": "code",
   "execution_count": 19,
   "id": "4dec40cc-c815-49e8-9eb9-e8b6f699a5ad",
   "metadata": {},
   "outputs": [
    {
     "name": "stdout",
     "output_type": "stream",
     "text": [
      "Access denied with the following error:\n"
     ]
    },
    {
     "name": "stderr",
     "output_type": "stream",
     "text": [
      "\n",
      " \tCannot retrieve the public link of the file. You may need to change\n",
      "\tthe permission to 'Anyone with the link', or have had many accesses. \n",
      "\n",
      "You may still be able to access the file from the browser:\n",
      "\n",
      "\t https://drive.google.com/uc?id=1aGEFw_C5UVJbpWO28fNWlDlWRo5LGiW5 \n",
      "\n"
     ]
    }
   ],
   "source": [
    "data_drive_id = \"1aGEFw_C5UVJbpWO28fNWlDlWRo5LGiW5\"\n",
    "data_id = uuid.uuid4().__str__()[:8]\n",
    "file_url = f'https://drive.google.com/uc?id={data_drive_id}'\n",
    "data_dest_file = os.path.join(f\"data_{data_id}.zip\")\n",
    "\n",
    "gdown.download(file_url, data_dest_file)"
   ]
  },
  {
   "cell_type": "code",
   "execution_count": 45,
   "id": "71a7585e-4dcc-4bfc-99d9-fda41cbe2055",
   "metadata": {},
   "outputs": [],
   "source": [
    "data_dest_file = os.path.join('workdir', '99782a7a-bc27-487f-b472-275724bbfa80', 'Test Project', 'data_15daf170.zip')\n",
    "data_drive_id = \"1aGEFw_C5UVJbpWO28fNWlDlWRo5LGiW5\"\n",
    "dest_dir = os.path.dirname(data_dest_file)\n",
    "file_name = os.path.basename(data_dest_file)\n",
    "current_dir = os.getcwd()\n",
    "os.chdir(dest_dir)\n",
    "os.system(f\"gdown --output {file_name} {data_drive_id}\")\n",
    "os.chdir(current_dir)"
   ]
  },
  {
   "cell_type": "code",
   "execution_count": null,
   "id": "900dafb7-7ba5-4ead-97b3-566830f18c51",
   "metadata": {},
   "outputs": [],
   "source": []
  }
 ],
 "metadata": {
  "kernelspec": {
   "display_name": "Python 3 (ipykernel)",
   "language": "python",
   "name": "python3"
  },
  "language_info": {
   "codemirror_mode": {
    "name": "ipython",
    "version": 3
   },
   "file_extension": ".py",
   "mimetype": "text/x-python",
   "name": "python",
   "nbconvert_exporter": "python",
   "pygments_lexer": "ipython3",
   "version": "3.9.13"
  }
 },
 "nbformat": 4,
 "nbformat_minor": 5
}
