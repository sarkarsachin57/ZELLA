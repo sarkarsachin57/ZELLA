{
 "cells": [
  {
   "cell_type": "code",
   "execution_count": null,
   "id": "bcf42b84-070f-4929-9b19-888d8794278b",
   "metadata": {},
   "outputs": [],
   "source": []
  },
  {
   "cell_type": "code",
   "execution_count": 1,
   "id": "4dc2825e-49f2-4a86-aab6-3746f70f9fd9",
   "metadata": {},
   "outputs": [
    {
     "name": "stdout",
     "output_type": "stream",
     "text": [
      "\n",
      "\n",
      "Logging Resourse Usage - before any initializations\n",
      "GPU 0: 0 MiB / 6144 MiB\n",
      "gpu_memory : {0: 0}\n",
      "initials.py - before any initializations\n",
      "\n",
      "\n"
     ]
    },
    {
     "name": "stderr",
     "output_type": "stream",
     "text": [
      "2024-09-28 20:16:27,618 - p21960 {initials.py:231} - INFO - Check 1\n",
      "2024-09-28 20:16:27,622 - p21960 {initials.py:242} - INFO - Check 2\n",
      "2024-09-28 20:16:27,622 - p21960 {initials.py:248} - INFO - Check 3\n",
      "2024-09-28 20:16:27,707 - p21960 {initials.py:262} - INFO - Choosen Device : cuda:0\n",
      "2024-09-28 20:16:27,708 - p21960 {initials.py:269} - INFO - Check 4\n",
      "2024-09-28 20:16:27,708 - p21960 {initials.py:446} - INFO - Check 6\n",
      "2024-09-28 20:16:27,708 - p21960 {initials.py:550} - INFO - Check 8\n",
      "2024-09-28 20:16:27,709 - p21960 {initials.py:601} - INFO - Check 9\n",
      "2024-09-28 20:16:27,709 - p21960 {initials.py:653} - INFO - Check 10\n"
     ]
    },
    {
     "name": "stdout",
     "output_type": "stream",
     "text": [
      "\n",
      "\n",
      "Logging Resourse Usage - after all library initializations\n",
      "GPU 0: 0 MiB / 6144 MiB\n",
      "gpu_memory : {0: 0}\n",
      "initials.py - after all library initializations\n",
      "\n",
      "\n",
      "current process name : MainProcess\n",
      "CPU Count : 16\n",
      "GPU 0: 0 MiB / 6144 MiB\n",
      "Choosen Device : cuda:0\n",
      "\n",
      "\n",
      "Logging Resourse Usage - end of initials.py\n",
      "GPU 0: 0 MiB / 6144 MiB\n",
      "gpu_memory : {0: 0}\n",
      "initials.py - end of initials.py\n",
      "\n",
      "\n"
     ]
    }
   ],
   "source": [
    "from initials import *"
   ]
  },
  {
   "cell_type": "code",
   "execution_count": 8,
   "id": "772be6cd-1fd0-4699-a5ee-d805c979fdb5",
   "metadata": {},
   "outputs": [
    {
     "data": {
      "text/plain": [
       "<pymongo.results.DeleteResult at 0x17021ffca00>"
      ]
     },
     "execution_count": 8,
     "metadata": {},
     "output_type": "execute_result"
    }
   ],
   "source": [
    "mongodb[\"projects\"].delete_many({})"
   ]
  },
  {
   "cell_type": "code",
   "execution_count": 11,
   "id": "ec0e0b85-d98f-4647-b5fc-6b42a8df58dc",
   "metadata": {},
   "outputs": [
    {
     "name": "stdout",
     "output_type": "stream",
     "text": [
      "Status Code: 200\n",
      "Response JSON: {'status': 'fail', 'message': 'Project name already exists!'}\n"
     ]
    }
   ],
   "source": [
    "import requests\n",
    "\n",
    "# Set the URL of the API\n",
    "url = 'http://localhost:5000/create-project'  # Replace with the actual URL of your API\n",
    "\n",
    "# Define the form data to be sent\n",
    "data = {\n",
    "    'email': 'sachin@gmail.com',\n",
    "    'project_name': 'Test Project',\n",
    "    'project_type': 'Image Classification'  # You can change this according to your test case\n",
    "}\n",
    "\n",
    "# Send a POST request to the /create-project endpoint\n",
    "response = requests.post(url, data=data)\n",
    "\n",
    "# Print the response from the server\n",
    "print(f'Status Code: {response.status_code}')\n",
    "print('Response JSON:', response.json())"
   ]
  },
  {
   "cell_type": "code",
   "execution_count": 12,
   "id": "5a21e699-ac8f-4568-9278-61fabe540a2d",
   "metadata": {},
   "outputs": [
    {
     "name": "stdout",
     "output_type": "stream",
     "text": [
      "Status Code: 200\n",
      "Response JSON: {'status': 'success', 'project_list': [{'_id': '99782a7a-bc27-487f-b472-275724bbfa80_cddc7182', 'project_id': 'cddc7182', 'user_id': '99782a7a-bc27-487f-b472-275724bbfa80', 'project_name': 'Test Project', 'project_type': 'Image Classification', 'project_dir': 'workdir\\\\99782a7a-bc27-487f-b472-275724bbfa80\\\\Test Project', 'project_creation_time': '2024-09-24 13:08:12.240000', 'project_creation_time_str': '2024-09-24 01:08:12 PM'}]}\n"
     ]
    }
   ],
   "source": [
    "import requests\n",
    "\n",
    "# Set the URL of the API\n",
    "url = 'http://localhost:5000/get-project-list'  # Replace with the actual URL of your API\n",
    "\n",
    "# Define the form data to be sent\n",
    "data = {\n",
    "    'email': 'sachin@gmail.com'\n",
    "}\n",
    "\n",
    "# Send a POST request to the /create-project endpoint\n",
    "response = requests.post(url, data=data)\n",
    "\n",
    "# Print the response from the server\n",
    "print(f'Status Code: {response.status_code}')\n",
    "print('Response JSON:', response.json())"
   ]
  },
  {
   "cell_type": "code",
   "execution_count": null,
   "id": "0aa18bc6-058d-4600-9299-256fd7ac8a53",
   "metadata": {},
   "outputs": [],
   "source": [
    "\n",
    "        email = request.form['email']         \n",
    "        project_name = request.form['project_name']\n",
    "        data_name =  request.form['data_name']\n",
    "        data_type = request.form['data_type']\n",
    "        data_drive_id = request.form['data_drive_id']\n",
    "        data_zip_file = request.files['data_zip_file']\n",
    "        "
   ]
  },
  {
   "cell_type": "code",
   "execution_count": 52,
   "id": "16b8bb65-017c-4cb0-840e-49c897c39cec",
   "metadata": {},
   "outputs": [
    {
     "name": "stdout",
     "output_type": "stream",
     "text": [
      "Status Code: 200\n",
      "Response JSON: {\"status\":\"success\",\"data\":{\"_id\":\"99782a7a-bc27-487f-b472-275724bbfa80_Test Project_b2a2d49e\",\"data_id\":\"b2a2d49e\",\"project_name\":\"Test Project\",\"user_id\":\"99782a7a-bc27-487f-b472-275724bbfa80\",\"data_name\":\"Test Data 1\",\"data_type\":\"Labeled\",\"project_type\":\"Image Classification\",\"data_zip_path\":\"workdir\\\\99782a7a-bc27-487f-b472-275724bbfa80\\\\Test Project\\\\data_b2a2d49e.zip\",\"data_extracted_path\":\"workdir\\\\99782a7a-bc27-487f-b472-275724bbfa80\\\\Test Project\\\\data_b2a2d49e_extracted\",\"data_creation_time\":\"2024-09-24 22:13:35.359280\",\"data_creation_time_str\":\"2024-09-24 10:13:35 PM\"}}\n"
     ]
    }
   ],
   "source": [
    "import requests\n",
    "# Set the URL of the API\n",
    "url = 'http://localhost:5000/upload-data'  # Replace with the actual URL of your API\n",
    "# Define the form data to be sent\n",
    "data = {\n",
    "    'email': 'sachin@gmail.com',\n",
    "    'project_name' : 'Test Project',\n",
    "    'data_name' : 'Test Data 1',\n",
    "    'data_type' : \"Labeled\",\n",
    "    'data_drive_id' : \"1TvlMyCitAOOrAwpllcnM1gdi0bAJgXKr\", \n",
    "    'data_zip_file' : \"\"\n",
    "}\n",
    "\n",
    "# Send a POST request to the /create-project endpoint\n",
    "response = requests.post(url, data=data)\n",
    "\n",
    "# Print the response from the server\n",
    "print(f'Status Code: {response.status_code}')\n",
    "print('Response JSON:', response.content.decode())"
   ]
  },
  {
   "cell_type": "code",
   "execution_count": 51,
   "id": "72c1dca3-a490-4c31-94d3-639a6fcfbc9c",
   "metadata": {},
   "outputs": [
    {
     "data": {
      "text/plain": [
       "<pymongo.results.DeleteResult at 0x170573496a0>"
      ]
     },
     "execution_count": 51,
     "metadata": {},
     "output_type": "execute_result"
    }
   ],
   "source": [
    "mongodb[\"datasets\"].delete_many({})"
   ]
  },
  {
   "cell_type": "code",
   "execution_count": 48,
   "id": "1cb4ab94-44e7-46fe-8ee6-b5fa9d2f7b01",
   "metadata": {},
   "outputs": [
    {
     "name": "stdout",
     "output_type": "stream",
     "text": [
      "Status Code: 200\n",
      "Response JSON: {\"status\":\"success\",\"dataset_list\":[{\"_id\":\"99782a7a-bc27-487f-b472-275724bbfa80_Test Project_9cbf3d39\",\"data_id\":\"9cbf3d39\",\"project_name\":\"Test Project\",\"user_id\":\"99782a7a-bc27-487f-b472-275724bbfa80\",\"data_name\":\"Test Data\",\"data_type\":\"Labeled\",\"project_type\":\"Image Classification\",\"data_zip_path\":\"workdir\\\\99782a7a-bc27-487f-b472-275724bbfa80\\\\Test Project\\\\data_9cbf3d39.zip\",\"data_extracted_path\":\"workdir\\\\99782a7a-bc27-487f-b472-275724bbfa80\\\\Test Project\\\\data_9cbf3d39_extracted\",\"data_creation_time\":\"2024-09-24 21:35:56.613000\",\"data_creation_time_str\":\"2024-09-24 09:35:56 PM\"}]}\n"
     ]
    }
   ],
   "source": [
    "import requests\n",
    "# Set the URL of the API\n",
    "url = 'http://localhost:5000/get-dataset-list'  # Replace with the actual URL of your API\n",
    "\n",
    "# Define the form data to be sent\n",
    "data = {\n",
    "    'email': 'sachin@gmail.com',\n",
    "    'project_name' : 'Test Project'\n",
    "}\n",
    "\n",
    "# Send a POST request to the /create-project endpoint\n",
    "response = requests.post(url, data=data)\n",
    "\n",
    "# Print the response from the server\n",
    "print(f'Status Code: {response.status_code}')\n",
    "print('Response JSON:', response.content.decode())"
   ]
  },
  {
   "cell_type": "code",
   "execution_count": 19,
   "id": "4dec40cc-c815-49e8-9eb9-e8b6f699a5ad",
   "metadata": {},
   "outputs": [
    {
     "name": "stdout",
     "output_type": "stream",
     "text": [
      "Access denied with the following error:\n"
     ]
    },
    {
     "name": "stderr",
     "output_type": "stream",
     "text": [
      "\n",
      " \tCannot retrieve the public link of the file. You may need to change\n",
      "\tthe permission to 'Anyone with the link', or have had many accesses. \n",
      "\n",
      "You may still be able to access the file from the browser:\n",
      "\n",
      "\t https://drive.google.com/uc?id=1aGEFw_C5UVJbpWO28fNWlDlWRo5LGiW5 \n",
      "\n"
     ]
    }
   ],
   "source": [
    "data_drive_id = \"1aGEFw_C5UVJbpWO28fNWlDlWRo5LGiW5\"\n",
    "data_id = uuid.uuid4().__str__()[:8]\n",
    "file_url = f'https://drive.google.com/uc?id={data_drive_id}'\n",
    "data_dest_file = os.path.join(f\"data_{data_id}.zip\")\n",
    "\n",
    "gdown.download(file_url, data_dest_file)"
   ]
  },
  {
   "cell_type": "code",
   "execution_count": 45,
   "id": "71a7585e-4dcc-4bfc-99d9-fda41cbe2055",
   "metadata": {},
   "outputs": [],
   "source": [
    "data_dest_file = os.path.join('workdir', '99782a7a-bc27-487f-b472-275724bbfa80', 'Test Project', 'data_15daf170.zip')\n",
    "data_drive_id = \"1aGEFw_C5UVJbpWO28fNWlDlWRo5LGiW5\"\n",
    "dest_dir = os.path.dirname(data_dest_file)\n",
    "file_name = os.path.basename(data_dest_file)\n",
    "current_dir = os.getcwd()\n",
    "os.chdir(dest_dir)\n",
    "os.system(f\"gdown --output {file_name} {data_drive_id}\")\n",
    "os.chdir(current_dir)"
   ]
  },
  {
   "cell_type": "code",
   "execution_count": 41,
   "id": "900dafb7-7ba5-4ead-97b3-566830f18c51",
   "metadata": {},
   "outputs": [
    {
     "name": "stdout",
     "output_type": "stream",
     "text": [
      "Status Code: 200\n",
      "Response JSON: {\"status\":\"success\",\"run_history\":[{\"_id\":\"665cb16a-09e1-4075-ab2a-4af356f72484\",\"training_start_time\":\"2024-09-28 20:44:39.488000\",\"training_start_time_str\":\"2024-09-28 08:44:39 PM\",\"run_name\":\"RUN1\",\"data_name\":\"Test Data 2\",\"project_name\":\"Test Project\",\"user_id\":\"99782a7a-bc27-487f-b472-275724bbfa80\",\"arch_name\":\"resnet18\",\"training_mode\":\"scratch\",\"batch_size\":32,\"num_epochs\":3,\"learning_rate\":0.01,\"training_status\":\"Epoch 2/3\"}]}\n"
     ]
    }
   ],
   "source": [
    "import requests\n",
    "# Set the URL of the API\n",
    "url = 'http://localhost:5000/get-run-logs'  # Replace with the actual URL of your API\n",
    "\n",
    "# Define the form data to be sent\n",
    "data = {\n",
    "    'email': 'sachin@gmail.com',\n",
    "    'project_name' : 'Test Project'\n",
    "}\n",
    "\n",
    "# Send a POST request to the /create-project endpoint\n",
    "response = requests.post(url, data=data)\n",
    "\n",
    "# Print the response from the server\n",
    "print(f'Status Code: {response.status_code}')\n",
    "print('Response JSON:', response.content.decode())"
   ]
  },
  {
   "cell_type": "code",
   "execution_count": 42,
   "id": "127b3c38-429d-4be6-9cc7-9c0121bfb1ef",
   "metadata": {},
   "outputs": [
    {
     "name": "stdout",
     "output_type": "stream",
     "text": [
      "Status Code: 200\n",
      "Response JSON: {\"status\":\"success\",\"history\":{\"epochs\":[\"1/3\"],\"train_loss\":[2.366658988952637],\"train_acc\":[0.10016],\"val_loss\":[2.368781241607666],\"val_acc\":[0.1004]},\"classification_report\":\"Will available after training!\"}\n"
     ]
    }
   ],
   "source": [
    "import requests\n",
    "# Set the URL of the API\n",
    "url = 'http://localhost:5000/get_detailed_training_history'  # Replace with the actual URL of your API\n",
    "\n",
    "# Define the form data to be sent\n",
    "data = {\n",
    "    'email': 'sachin@gmail.com',\n",
    "    'project_name' : 'Test Project',\n",
    "    'run_name' : \"RUN1\"\n",
    "}\n",
    "\n",
    "# Send a POST request to the /create-project endpoint\n",
    "response = requests.post(url, data=data)\n",
    "\n",
    "# Print the response from the server\n",
    "print(f'Status Code: {response.status_code}')\n",
    "print('Response JSON:', response.content.decode())"
   ]
  },
  {
   "cell_type": "code",
   "execution_count": 37,
   "id": "b1fc7970-2032-4657-8ca2-1141c3b11f65",
   "metadata": {},
   "outputs": [],
   "source": [
    "email = 'sachin@gmail.com'\n",
    "project_name = 'Test Project'\n",
    "\n",
    "user_data = mongodb['users'].find_one({'email' : email})\n",
    "user_id = user_data[\"_id\"]\n",
    "\n",
    "run_history = mongodb[\"run_records\"].find({'user_id' : user_id, 'project_name' : project_name})\n"
   ]
  },
  {
   "cell_type": "code",
   "execution_count": 38,
   "id": "1c5a4e89-5ecb-41f5-ad94-dd26b73e9621",
   "metadata": {},
   "outputs": [
    {
     "data": {
      "text/html": [
       "<div>\n",
       "<style scoped>\n",
       "    .dataframe tbody tr th:only-of-type {\n",
       "        vertical-align: middle;\n",
       "    }\n",
       "\n",
       "    .dataframe tbody tr th {\n",
       "        vertical-align: top;\n",
       "    }\n",
       "\n",
       "    .dataframe thead th {\n",
       "        text-align: right;\n",
       "    }\n",
       "</style>\n",
       "<table border=\"1\" class=\"dataframe\">\n",
       "  <thead>\n",
       "    <tr style=\"text-align: right;\">\n",
       "      <th></th>\n",
       "    </tr>\n",
       "  </thead>\n",
       "  <tbody>\n",
       "  </tbody>\n",
       "</table>\n",
       "</div>"
      ],
      "text/plain": [
       "Empty DataFrame\n",
       "Columns: []\n",
       "Index: []"
      ]
     },
     "execution_count": 38,
     "metadata": {},
     "output_type": "execute_result"
    }
   ],
   "source": [
    "pd.DataFrame(run_history)"
   ]
  },
  {
   "cell_type": "code",
   "execution_count": 35,
   "id": "4cca62fa-0ba8-4d04-82a7-3302430d79c6",
   "metadata": {},
   "outputs": [
    {
     "ename": "TypeError",
     "evalue": "'NoneType' object is not subscriptable",
     "output_type": "error",
     "traceback": [
      "\u001b[1;31m---------------------------------------------------------------------------\u001b[0m",
      "\u001b[1;31mTypeError\u001b[0m                                 Traceback (most recent call last)",
      "Cell \u001b[1;32mIn[35], line 4\u001b[0m\n\u001b[0;32m      1\u001b[0m run_name \u001b[38;5;241m=\u001b[39m \u001b[38;5;124m\"\u001b[39m\u001b[38;5;124mRUN1\u001b[39m\u001b[38;5;124m\"\u001b[39m\n\u001b[0;32m      2\u001b[0m train_hist \u001b[38;5;241m=\u001b[39m mongodb[\u001b[38;5;124m\"\u001b[39m\u001b[38;5;124mtraining_history\u001b[39m\u001b[38;5;124m\"\u001b[39m]\u001b[38;5;241m.\u001b[39mfind_one({\u001b[38;5;124m\"\u001b[39m\u001b[38;5;124mrun_name\u001b[39m\u001b[38;5;124m\"\u001b[39m : run_name, \u001b[38;5;124m\"\u001b[39m\u001b[38;5;124mproject_name\u001b[39m\u001b[38;5;124m\"\u001b[39m : project_name, \u001b[38;5;124m\"\u001b[39m\u001b[38;5;124muser_id\u001b[39m\u001b[38;5;124m\"\u001b[39m : user_id})\n\u001b[1;32m----> 4\u001b[0m history \u001b[38;5;241m=\u001b[39m \u001b[43mtrain_hist\u001b[49m\u001b[43m[\u001b[49m\u001b[38;5;124;43m\"\u001b[39;49m\u001b[38;5;124;43mhistory\u001b[39;49m\u001b[38;5;124;43m\"\u001b[39;49m\u001b[43m]\u001b[49m\n\u001b[0;32m      5\u001b[0m classification_report \u001b[38;5;241m=\u001b[39m train_hist[\u001b[38;5;124m\"\u001b[39m\u001b[38;5;124mclassification_report\u001b[39m\u001b[38;5;124m\"\u001b[39m]\n",
      "\u001b[1;31mTypeError\u001b[0m: 'NoneType' object is not subscriptable"
     ]
    }
   ],
   "source": [
    "run_name = \"RUN1\"\n",
    "train_hist = mongodb[\"training_history\"].find_one({\"run_name\" : run_name, \"project_name\" : project_name, \"user_id\" : user_id})\n",
    "\n",
    "history = train_hist[\"history\"]\n",
    "classification_report = train_hist[\"classification_report\"]\n"
   ]
  },
  {
   "cell_type": "code",
   "execution_count": 36,
   "id": "137c0c64-37f7-43fd-8483-ecf5edf221fa",
   "metadata": {},
   "outputs": [],
   "source": [
    "train_hist"
   ]
  },
  {
   "cell_type": "code",
   "execution_count": 25,
   "id": "eecdaa76-f1fe-47a2-8d5b-b0d70254e644",
   "metadata": {},
   "outputs": [
    {
     "data": {
      "text/plain": [
       "{'epochs': ['1/10', '2/10', '3/10'],\n",
       " 'train_loss': [1.7407714839935302, 1.0161447722816468, 0.7228593872404099],\n",
       " 'train_acc': [0.36514, 0.63742, 0.74882],\n",
       " 'val_loss': [1.2477927943229676, 0.973458186674118, 0.6714399291932582],\n",
       " 'val_acc': [0.534, 0.6557, 0.7659]}"
      ]
     },
     "execution_count": 25,
     "metadata": {},
     "output_type": "execute_result"
    }
   ],
   "source": [
    "history"
   ]
  },
  {
   "cell_type": "code",
   "execution_count": 26,
   "id": "3b0b5a6f-abd6-493d-80bd-7831a26bb2e2",
   "metadata": {},
   "outputs": [
    {
     "data": {
      "text/plain": [
       "'Will available after training!'"
      ]
     },
     "execution_count": 26,
     "metadata": {},
     "output_type": "execute_result"
    }
   ],
   "source": [
    "classification_report"
   ]
  },
  {
   "cell_type": "code",
   "execution_count": 34,
   "id": "f3ff5ba4-3cc7-41f9-996d-47e7bd1c5e23",
   "metadata": {},
   "outputs": [
    {
     "data": {
      "text/plain": [
       "<pymongo.results.DeleteResult at 0x17c576a69d0>"
      ]
     },
     "execution_count": 34,
     "metadata": {},
     "output_type": "execute_result"
    }
   ],
   "source": [
    "mongodb[\"training_history\"].delete_many({})"
   ]
  },
  {
   "cell_type": "code",
   "execution_count": null,
   "id": "74516976-cc6a-4c05-954b-235e022fbd8d",
   "metadata": {},
   "outputs": [],
   "source": []
  }
 ],
 "metadata": {
  "kernelspec": {
   "display_name": "Python 3 (ipykernel)",
   "language": "python",
   "name": "python3"
  },
  "language_info": {
   "codemirror_mode": {
    "name": "ipython",
    "version": 3
   },
   "file_extension": ".py",
   "mimetype": "text/x-python",
   "name": "python",
   "nbconvert_exporter": "python",
   "pygments_lexer": "ipython3",
   "version": "3.9.13"
  }
 },
 "nbformat": 4,
 "nbformat_minor": 5
}
